{
 "cells": [
  {
   "cell_type": "markdown",
   "id": "988445af-5dd9-4d92-a14a-33c933f35cd4",
   "metadata": {},
   "source": [
    "<h1 style=\"color:white; background-color:green; padding:10px; border-radius:8px;\">\n",
    "AI Text Classification Notebook\n",
    "</h1>"
   ]
  },
  {
   "cell_type": "markdown",
   "id": "c0132549-f2a6-40a6-8daa-21d55b0e4085",
   "metadata": {
    "tags": []
   },
   "source": [
    "Author: <span style=\"background-color:green; color:white; padding:5px 8px; border-radius:4px;\">Blina Sopjani</span><br><br>\n",
    "Date: <span style=\"background-color:green; color:white; padding:5px 8px; border-radius:4px;\">01/10/2025</span>\n"
   ]
  },
  {
   "cell_type": "markdown",
   "id": "ba34be40-a06b-4f67-bbb3-0991660c542b",
   "metadata": {
    "tags": []
   },
   "source": [
    "## Dataset\n",
    "This notebook uses the AG News Classification Dataset by Amananandrai.  \n",
    "- **Source:** [Kaggle: AG News Classification Dataset](https://www.kaggle.com/datasets/amananandrai/ag-news-classification-dataset?resource=download)  \n",
    "- **Categories:** 4 (World, Sports, Business, Science)  \n",
    "- **Training Samples:** 120,000  \n",
    "- **Test Samples:** 7,600  "
   ]
  },
  {
   "cell_type": "markdown",
   "id": "fe725b8d-f2d9-4ed8-92f9-81f82e5dd005",
   "metadata": {
    "tags": []
   },
   "source": [
    "## Goal\n",
    "Build a text classification model to predict news categories based on title and description.  \n",
    "The notebook demonstrates data preprocessing, exploratory analysis, model training, evaluation, and prediction."
   ]
  },
  {
   "cell_type": "markdown",
   "id": "c873b23b-13ae-44c3-a02d-39933d192bf3",
   "metadata": {},
   "source": [
    "## Import Libraries"
   ]
  },
  {
   "cell_type": "markdown",
   "id": "4b4ab4d0-8f30-469b-b5fd-9b6a319b1eac",
   "metadata": {
    "tags": []
   },
   "source": [
    "<span style=\"color:green;\"> For this notebook to work you must have installed the following packages:</span>"
   ]
  },
  {
   "cell_type": "code",
   "execution_count": 169,
   "id": "c430d661-4f22-4e28-a5fe-2efce3102908",
   "metadata": {
    "tags": []
   },
   "outputs": [],
   "source": [
    "import pandas as pd\n",
    "import numpy as np\n",
    "import re\n",
    "import nltk \n",
    "from nltk.corpus import stopwords"
   ]
  },
  {
   "cell_type": "code",
   "execution_count": 170,
   "id": "07771d37-4c9f-444c-88d4-7222b93f34ac",
   "metadata": {
    "tags": []
   },
   "outputs": [],
   "source": [
    "from sklearn.feature_extraction.text import TfidfVectorizer\n",
    "from sklearn.linear_model import LogisticRegression\n",
    "from sklearn.naive_bayes import MultinomialNB\n",
    "from sklearn.metrics import classification_report, confusion_matrix, accuracy_score"
   ]
  },
  {
   "cell_type": "code",
   "execution_count": 171,
   "id": "5427aa08-0cea-4861-a68a-dde5f7c37909",
   "metadata": {
    "tags": []
   },
   "outputs": [],
   "source": [
    "import matplotlib.pyplot as plt\n",
    "import seaborn as sns\n",
    "import joblib"
   ]
  },
  {
   "cell_type": "markdown",
   "id": "5af48126-a4ea-43af-a0ea-d3f075f2d2f6",
   "metadata": {
    "tags": []
   },
   "source": [
    "## Download stopwords"
   ]
  },
  {
   "cell_type": "code",
   "execution_count": 172,
   "id": "d2ac774b-2679-4ad6-a201-c05dbcbbbb74",
   "metadata": {
    "tags": []
   },
   "outputs": [],
   "source": [
    "nltk.download(\"stopwords\", quiet=True)\n",
    "stop_words = set(stopwords.words(\"english\"))"
   ]
  },
  {
   "cell_type": "markdown",
   "id": "b9555055-0085-45b3-a0e1-86b4e6971cf0",
   "metadata": {},
   "source": [
    "## Load Data"
   ]
  },
  {
   "cell_type": "code",
   "execution_count": 173,
   "id": "b865430c-6cfd-4451-9e07-5ab93c2559a6",
   "metadata": {
    "tags": []
   },
   "outputs": [],
   "source": [
    "train_df = pd.read_csv(\"archive/train.csv\")\n",
    "test_df = pd.read_csv(\"archive/test.csv\")"
   ]
  },
  {
   "cell_type": "code",
   "execution_count": 174,
   "id": "61886eb3-d8bb-4176-aa70-d002d7b88c96",
   "metadata": {
    "tags": []
   },
   "outputs": [
    {
     "name": "stdout",
     "output_type": "stream",
     "text": [
      "Training Data:\n",
      "   Class Index                                              Title  \\\n",
      "0            3  Wall St. Bears Claw Back Into the Black (Reuters)   \n",
      "1            3  Carlyle Looks Toward Commercial Aerospace (Reu...   \n",
      "2            3    Oil and Economy Cloud Stocks' Outlook (Reuters)   \n",
      "3            3  Iraq Halts Oil Exports from Main Southern Pipe...   \n",
      "4            3  Oil prices soar to all-time record, posing new...   \n",
      "\n",
      "                                         Description  \n",
      "0  Reuters - Short-sellers, Wall Street's dwindli...  \n",
      "1  Reuters - Private investment firm Carlyle Grou...  \n",
      "2  Reuters - Soaring crude prices plus worries\\ab...  \n",
      "3  Reuters - Authorities have halted oil export\\f...  \n",
      "4  AFP - Tearaway world oil prices, toppling reco...  \n"
     ]
    }
   ],
   "source": [
    "print(\"Training Data:\")\n",
    "print(train_df.head())"
   ]
  },
  {
   "cell_type": "code",
   "execution_count": 175,
   "id": "78226d69-1d63-41d2-b024-2e671ce9e0ec",
   "metadata": {
    "tags": []
   },
   "outputs": [
    {
     "name": "stdout",
     "output_type": "stream",
     "text": [
      "\n",
      "Test Data:\n",
      "   Class Index                                              Title  \\\n",
      "0            3                  Fears for T N pension after talks   \n",
      "1            4  The Race is On: Second Private Team Sets Launc...   \n",
      "2            4      Ky. Company Wins Grant to Study Peptides (AP)   \n",
      "3            4      Prediction Unit Helps Forecast Wildfires (AP)   \n",
      "4            4        Calif. Aims to Limit Farm-Related Smog (AP)   \n",
      "\n",
      "                                         Description  \n",
      "0  Unions representing workers at Turner   Newall...  \n",
      "1  SPACE.com - TORONTO, Canada -- A second\\team o...  \n",
      "2  AP - A company founded by a chemistry research...  \n",
      "3  AP - It's barely dawn when Mike Fitzpatrick st...  \n",
      "4  AP - Southern California's smog-fighting agenc...  \n"
     ]
    }
   ],
   "source": [
    "print(\"\\nTest Data:\")\n",
    "print(test_df.head())"
   ]
  },
  {
   "cell_type": "markdown",
   "id": "956d1947-220f-4a36-bf3f-fd2ef390acc2",
   "metadata": {
    "tags": []
   },
   "source": [
    "## Prepare Dataset"
   ]
  },
  {
   "cell_type": "markdown",
   "id": "36a87e7b-e37c-4912-b49b-3946027c2a26",
   "metadata": {
    "tags": []
   },
   "source": [
    "<span style=\"color:green;\"> Combine title + description into a single text column: </span>"
   ]
  },
  {
   "cell_type": "code",
   "execution_count": 176,
   "id": "bf155fae-23bb-42d2-b573-4ec9d71acf68",
   "metadata": {
    "tags": []
   },
   "outputs": [],
   "source": [
    "train_df['text'] = train_df['Title'].astype(str) + \" \" + train_df ['Description'].astype(str)\n",
    "test_df['text'] = test_df['Title'].astype(str) + \" \" + test_df ['Description'].astype(str)            "
   ]
  },
  {
   "cell_type": "markdown",
   "id": "a1ec3d36-3198-407c-9be0-66130804b77f",
   "metadata": {},
   "source": [
    "<span style=\"color:green;\">Rename label column:</span>"
   ]
  },
  {
   "cell_type": "code",
   "execution_count": 177,
   "id": "810d1c94-1842-4c8f-bc7a-9ed9b9383ae1",
   "metadata": {
    "tags": []
   },
   "outputs": [],
   "source": [
    "train_df.rename(columns = {\"Class Index\" : \"label\"}, inplace=True)\n",
    "test_df.rename(columns = {\"Class Index\" : \"label\"}, inplace=True)"
   ]
  },
  {
   "cell_type": "code",
   "execution_count": 178,
   "id": "64471c7b-f49d-47a1-b8a6-7401c10c8a69",
   "metadata": {
    "tags": []
   },
   "outputs": [
    {
     "name": "stdout",
     "output_type": "stream",
     "text": [
      "   label                                               text\n",
      "0      3  Wall St. Bears Claw Back Into the Black (Reute...\n",
      "1      3  Carlyle Looks Toward Commercial Aerospace (Reu...\n",
      "2      3  Oil and Economy Cloud Stocks' Outlook (Reuters...\n",
      "3      3  Iraq Halts Oil Exports from Main Southern Pipe...\n",
      "4      3  Oil prices soar to all-time record, posing new...\n"
     ]
    }
   ],
   "source": [
    "print(train_df[['label','text']].head())"
   ]
  },
  {
   "cell_type": "markdown",
   "id": "acf6e07b-f3ab-4389-91f4-26ba5ec3008c",
   "metadata": {},
   "source": [
    "## Explore Data "
   ]
  },
  {
   "cell_type": "markdown",
   "id": "d1470547-347d-4294-94e8-1f80ad0081a1",
   "metadata": {},
   "source": [
    "<span style=\"color:green;\">See how many samples per class:</span>"
   ]
  },
  {
   "cell_type": "code",
   "execution_count": 179,
   "id": "671731ff-81e8-4386-b69f-cac210039015",
   "metadata": {
    "tags": []
   },
   "outputs": [
    {
     "name": "stdout",
     "output_type": "stream",
     "text": [
      "Training set size: 120000\n"
     ]
    }
   ],
   "source": [
    "print(\"Training set size:\", len(train_df))"
   ]
  },
  {
   "cell_type": "code",
   "execution_count": 180,
   "id": "0191e806-d3c0-4849-ab8a-4d9e130eec29",
   "metadata": {
    "tags": []
   },
   "outputs": [
    {
     "name": "stdout",
     "output_type": "stream",
     "text": [
      "Test set size: 7600\n"
     ]
    }
   ],
   "source": [
    "print(\"Test set size:\", len(test_df))"
   ]
  },
  {
   "cell_type": "code",
   "execution_count": 181,
   "id": "e3afa34a-cb34-4347-aa14-b3392b987381",
   "metadata": {
    "tags": []
   },
   "outputs": [
    {
     "data": {
      "image/png": "[encoded data removed]",
      "text/plain": [
       "<Figure size 640x480 with 1 Axes>"
      ]
     },
     "metadata": {},
     "output_type": "display_data"
    }
   ],
   "source": [
    "train_df['label'].value_counts().plot(kind = 'bar', title = \"Samples per category\")\n",
    "plt.xlabel(\"Category\")\n",
    "plt.ylabel(\"Count\")\n",
    "plt.show()"
   ]
  },
  {
   "cell_type": "markdown",
   "id": "5adf448c-5b6b-4a78-9288-cf8cabd71eb2",
   "metadata": {},
   "source": [
    "## Clean Text"
   ]
  },
  {
   "cell_type": "markdown",
   "id": "54f15c05-0163-43a8-a239-288318323fc8",
   "metadata": {},
   "source": [
    "<span style=\"color:green;\"> A helper function to clean the text:</span>"
   ]
  },
  {
   "cell_type": "code",
   "execution_count": 182,
   "id": "6f1b37ee-588e-4e98-88d9-085796e01699",
   "metadata": {
    "tags": []
   },
   "outputs": [],
   "source": [
    "def clean_text(text):\n",
    "    text = text.lower()\n",
    "    text = re.sub(r\"[^a-z\\s]\", \"\", text)\n",
    "    words = [w for w in text.split() if w not in stop_words]\n",
    "    return \" \".join(words)"
   ]
  },
  {
   "cell_type": "code",
   "execution_count": 183,
   "id": "03e55c37-bb40-4624-9e2f-4a3d02f59a29",
   "metadata": {
    "tags": []
   },
   "outputs": [],
   "source": [
    "train_df['clean_text'] = train_df['text'].apply(clean_text)\n",
    "test_df['clean_text'] = test_df['text'].apply(clean_text)"
   ]
  },
  {
   "cell_type": "markdown",
   "id": "efefa2bb-5b7e-4907-a636-1743ec81d11f",
   "metadata": {},
   "source": [
    "## Vectorization (TF-IDF)"
   ]
  },
  {
   "cell_type": "code",
   "execution_count": 184,
   "id": "24c25504-eb0a-4a9e-954b-33a5943ba126",
   "metadata": {
    "tags": []
   },
   "outputs": [],
   "source": [
    "vectorizer = TfidfVectorizer(max_features=5000)\n",
    "X_train = vectorizer.fit_transform(train_df['clean_text'])\n",
    "X_test = vectorizer.transform(test_df['clean_text']) \n",
    "y_train = train_df['label']\n",
    "y_test = test_df['label']\n"
   ]
  },
  {
   "cell_type": "markdown",
   "id": "5afb9dd4-b155-4692-96a8-37cfd48d8058",
   "metadata": {
    "tags": []
   },
   "source": [
    "## Train Models (Logistic Regression & Naive Bayes)"
   ]
  },
  {
   "cell_type": "markdown",
   "id": "40e5f635-101b-4957-8a80-dec4ae99acce",
   "metadata": {
    "tags": []
   },
   "source": [
    "<span style=\"color:green;\">Logistic Regression:</span>"
   ]
  },
  {
   "cell_type": "code",
   "execution_count": 185,
   "id": "43ead9b9-0eb9-4ead-a795-bee8dca6fc47",
   "metadata": {
    "tags": []
   },
   "outputs": [],
   "source": [
    "log_model = LogisticRegression(max_iter=1000)\n",
    "log_model.fit(X_train, y_train)\n",
    "log_pred = log_model.predict(X_test) "
   ]
  },
  {
   "cell_type": "code",
   "execution_count": 186,
   "id": "0f3132b6-7739-4d6d-9598-c7a6a87ccf80",
   "metadata": {
    "tags": []
   },
   "outputs": [
    {
     "name": "stdout",
     "output_type": "stream",
     "text": [
      "Logistic regression results:\n",
      "              precision    recall  f1-score   support\n",
      "\n",
      "           1       0.92      0.90      0.91      1900\n",
      "           2       0.95      0.97      0.96      1900\n",
      "           3       0.87      0.87      0.87      1900\n",
      "           4       0.88      0.87      0.87      1900\n",
      "\n",
      "    accuracy                           0.90      7600\n",
      "   macro avg       0.90      0.90      0.90      7600\n",
      "weighted avg       0.90      0.90      0.90      7600\n",
      "\n"
     ]
    }
   ],
   "source": [
    "print(\"Logistic regression results:\")\n",
    "print(classification_report(y_test, log_pred))"
   ]
  },
  {
   "cell_type": "markdown",
   "id": "9803ea6c-6a4c-4628-a8ce-c3434ee43f76",
   "metadata": {
    "tags": []
   },
   "source": [
    "<span style=\"color:green;\">Naive Bayes:</span>"
   ]
  },
  {
   "cell_type": "code",
   "execution_count": 187,
   "id": "00a3a334-e147-4df4-9017-2a91c21c66b6",
   "metadata": {
    "tags": []
   },
   "outputs": [],
   "source": [
    "nb_model = MultinomialNB()\n",
    "nb_model.fit(X_train, y_train)\n",
    "nb_pred = nb_model.predict(X_test)"
   ]
  },
  {
   "cell_type": "code",
   "execution_count": 188,
   "id": "3e8a8036-febb-401f-97da-72a6f46d5e42",
   "metadata": {
    "tags": []
   },
   "outputs": [
    {
     "name": "stdout",
     "output_type": "stream",
     "text": [
      "Naive bayes results:\n",
      "              precision    recall  f1-score   support\n",
      "\n",
      "           1       0.90      0.89      0.90      1900\n",
      "           2       0.94      0.97      0.95      1900\n",
      "           3       0.86      0.84      0.85      1900\n",
      "           4       0.86      0.86      0.86      1900\n",
      "\n",
      "    accuracy                           0.89      7600\n",
      "   macro avg       0.89      0.89      0.89      7600\n",
      "weighted avg       0.89      0.89      0.89      7600\n",
      "\n"
     ]
    }
   ],
   "source": [
    "print(\"Naive bayes results:\")\n",
    "print(classification_report(y_test, nb_pred))"
   ]
  },
  {
   "cell_type": "markdown",
   "id": "a9c51b5e-280c-40d1-a952-51758d803da5",
   "metadata": {
    "tags": []
   },
   "source": [
    "## Confusion Matrix"
   ]
  },
  {
   "cell_type": "markdown",
   "id": "0d276f25-dd9f-4608-be84-245364d50eff",
   "metadata": {
    "tags": []
   },
   "source": [
    "<span style=\"color:green;\">Confusion matrix for Logistic Regression:</span>"
   ]
  },
  {
   "cell_type": "code",
   "execution_count": 189,
   "id": "36bca230-391d-446c-a51d-c76261fcfc11",
   "metadata": {
    "tags": []
   },
   "outputs": [],
   "source": [
    "cm = confusion_matrix(y_test, log_pred)"
   ]
  },
  {
   "cell_type": "code",
   "execution_count": 190,
   "id": "e19e1753-98e5-4db2-9d1d-06062073a83d",
   "metadata": {
    "tags": []
   },
   "outputs": [
    {
     "data": {
      "image/png": "[encoded data removed]",
      "text/plain": [
       "<Figure size 800x600 with 2 Axes>"
      ]
     },
     "metadata": {},
     "output_type": "display_data"
    }
   ],
   "source": [
    "plt.figure(figsize = (8,6))\n",
    "sns.heatmap(cm, annot = True, fmt=\"d\", cmap= \"Blues\")\n",
    "plt.title(\"Confusion Matrix (Logistic Regression)\")\n",
    "plt.xlabel(\"Predicted Label\")\n",
    "plt.ylabel(\"True Label\")\n",
    "plt.show()"
   ]
  },
  {
   "cell_type": "markdown",
   "id": "b6ac73cc-5995-4bda-be77-86ae124f1ea6",
   "metadata": {
    "tags": []
   },
   "source": [
    "<span style=\"color:green;\">Confusion matrix for Naive Bayes:</span>"
   ]
  },
  {
   "cell_type": "code",
   "execution_count": 191,
   "id": "f838b603-3354-48bf-9a4d-4013219feb1b",
   "metadata": {
    "tags": []
   },
   "outputs": [
    {
     "data": {
      "image/png": "[encoded data removed]",
      "text/plain": [
       "<Figure size 800x600 with 2 Axes>"
      ]
     },
     "metadata": {},
     "output_type": "display_data"
    }
   ],
   "source": [
    "cm_nb = confusion_matrix (y_test, nb_pred)\n",
    "plt.figure(figsize = (8,6))\n",
    "sns.heatmap(cm_nb, annot=True, fmt=\"d\", cmap=\"Greens\")\n",
    "plt.title(\"Confusion Matrix (Naive Bayes)\")\n",
    "plt.xlabel(\"Predicted Label\")\n",
    "plt.ylabel(\"True Label\")\n",
    "plt.show()"
   ]
  },
  {
   "cell_type": "markdown",
   "id": "c9de18d4-79fd-413e-bb3a-22b05f73df6c",
   "metadata": {
    "tags": []
   },
   "source": [
    "# Save Model & Vectorizer"
   ]
  },
  {
   "cell_type": "markdown",
   "id": "8a6ef9f3-18a5-4d64-bed2-a2f35fae1490",
   "metadata": {
    "tags": []
   },
   "source": [
    "<span style=\"color:green;\">Save Logistic Regression model and vectorizer:</span>"
   ]
  },
  {
   "cell_type": "code",
   "execution_count": 192,
   "id": "679c07c0-4926-4e6c-9fc9-d919d2446808",
   "metadata": {
    "tags": []
   },
   "outputs": [
    {
     "data": {
      "text/plain": [
       "['log_model.pkl']"
      ]
     },
     "execution_count": 192,
     "metadata": {},
     "output_type": "execute_result"
    }
   ],
   "source": [
    "joblib.dump(log_model, \"log_model.pkl\")\n"
   ]
  },
  {
   "cell_type": "code",
   "execution_count": 193,
   "id": "c461eef9-7b23-4555-b7c3-35ee0232c653",
   "metadata": {
    "tags": []
   },
   "outputs": [
    {
     "data": {
      "text/plain": [
       "['vectorizer.pkl']"
      ]
     },
     "execution_count": 193,
     "metadata": {},
     "output_type": "execute_result"
    }
   ],
   "source": [
    "joblib.dump(vectorizer, \"vectorizer.pkl\")"
   ]
  },
  {
   "cell_type": "markdown",
   "id": "3e67faf5-a747-4c9b-9e6b-9ff3d1a9ed28",
   "metadata": {
    "tags": []
   },
   "source": [
    "<span style=\"color:green;\">Save Naive Bayes:</span>"
   ]
  },
  {
   "cell_type": "code",
   "execution_count": 194,
   "id": "aa4906a5-9d3d-4bd3-8da7-5617d79dedcc",
   "metadata": {
    "tags": []
   },
   "outputs": [
    {
     "data": {
      "text/plain": [
       "['nb_model.pkl']"
      ]
     },
     "execution_count": 194,
     "metadata": {},
     "output_type": "execute_result"
    }
   ],
   "source": [
    "joblib.dump(nb_model, \"nb_model.pkl\")"
   ]
  },
  {
   "cell_type": "markdown",
   "id": "544abb33-f449-462c-964f-2b4f164d2aaa",
   "metadata": {
    "tags": []
   },
   "source": [
    "# Create a Prediction Function"
   ]
  },
  {
   "cell_type": "markdown",
   "id": "e8926034-149c-4cc7-bd7c-eaee0becabbd",
   "metadata": {
    "tags": []
   },
   "source": [
    "<span style=\"color:green;\">Load the model & vectorizer:</span>"
   ]
  },
  {
   "cell_type": "code",
   "execution_count": 195,
   "id": "1cd0268d-b881-41d5-8419-836855e17fac",
   "metadata": {
    "tags": []
   },
   "outputs": [],
   "source": [
    "model = joblib.load(\"log_model.pkl\")\n",
    "vectorizer = joblib.load(\"vectorizer.pkl\")"
   ]
  },
  {
   "cell_type": "code",
   "execution_count": 196,
   "id": "998781e6-70a8-4bf2-b771-1b8be5259047",
   "metadata": {
    "tags": []
   },
   "outputs": [],
   "source": [
    "def clean_text(text):\n",
    "    text = text.lower()\n",
    "    text = re.sub(r\"[^a-z\\s]\", \"\", text)\n",
    "    words = [w for w in text.split() if w not in stop_words]\n",
    "    return \" \".join(words)"
   ]
  },
  {
   "cell_type": "code",
   "execution_count": 197,
   "id": "13ba2764-8eb7-4124-9420-657cfd08c78e",
   "metadata": {
    "tags": []
   },
   "outputs": [],
   "source": [
    "def predict_category(text):\n",
    "    text_clean= clean_text(text)\n",
    "    X = vectorizer.transform([text_clean])\n",
    "    return model.predict(X)[0]"
   ]
  },
  {
   "cell_type": "code",
   "execution_count": 198,
   "id": "ca67971c-3b2d-485a-aeb8-cd5220fad831",
   "metadata": {
    "tags": []
   },
   "outputs": [
    {
     "name": "stdout",
     "output_type": "stream",
     "text": [
      "3\n",
      "2\n"
     ]
    }
   ],
   "source": [
    "print(predict_category(\"The government announced new economic reforms today.\"))\n",
    "print(predict_category(\"The football team won the championship last night.\"))"
   ]
  },
  {
   "cell_type": "markdown",
   "id": "cf28f34c-415a-4074-ab30-2da7fdbdf8a5",
   "metadata": {
    "tags": []
   },
   "source": [
    "# Predict Multiple Sentences"
   ]
  },
  {
   "cell_type": "code",
   "execution_count": 199,
   "id": "c5a1a6f8-7ad6-4cc1-8fe1-37397859fa2e",
   "metadata": {
    "tags": []
   },
   "outputs": [],
   "source": [
    "texts = [\n",
    "    \"The stock market crashed today.\",\n",
    "    \"The new movie was a huge success.\",\n",
    "    \"Local elections are coming soon.\"\n",
    "]"
   ]
  },
  {
   "cell_type": "code",
   "execution_count": 200,
   "id": "bccee480-d45d-4eb2-8c50-d2d39a512cb5",
   "metadata": {
    "tags": []
   },
   "outputs": [],
   "source": [
    "predictions = [predict_category(t) for t in texts]"
   ]
  },
  {
   "cell_type": "markdown",
   "id": "1f9cdf42-79bf-49a9-b724-92dae9702aac",
   "metadata": {
    "tags": []
   },
   "source": [
    "<span style=\"color:green;\">Display results:</span>"
   ]
  },
  {
   "cell_type": "code",
   "execution_count": 201,
   "id": "202684c7-489c-4dca-beee-a3ccf6bd62b1",
   "metadata": {
    "tags": []
   },
   "outputs": [
    {
     "name": "stdout",
     "output_type": "stream",
     "text": [
      "Text: The stock market crashed today.\n",
      "Predicted Category: 3\n",
      "\n",
      "Text: The new movie was a huge success.\n",
      "Predicted Category: 4\n",
      "\n",
      "Text: Local elections are coming soon.\n",
      "Predicted Category: 1\n",
      "\n"
     ]
    }
   ],
   "source": [
    "for t, p in zip (texts, predictions):\n",
    "    print(f\"Text: {t}\\nPredicted Category: {p}\\n\")"
   ]
  }
 ],
 "metadata": {
  "kernelspec": {
   "display_name": "Python 3 (ipykernel)",
   "language": "python",
   "name": "python3"
  },
  "language_info": {
   "codemirror_mode": {
    "name": "ipython",
    "version": 3
   },
   "file_extension": ".py",
   "mimetype": "text/x-python",
   "name": "python",
   "nbconvert_exporter": "python",
   "pygments_lexer": "ipython3",
   "version": "3.11.5"
  }
 },
 "nbformat": 4,
 "nbformat_minor": 5
}
